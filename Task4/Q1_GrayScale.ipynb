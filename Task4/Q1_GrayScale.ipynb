version https://git-lfs.github.com/spec/v1
oid sha256:c4f0dc87be1d9048e5a76cab1fd649f38b7e17f35f03e15ada427924dd3160b6
size 3572290
